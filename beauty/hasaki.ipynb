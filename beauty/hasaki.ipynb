{
 "cells": [
  {
   "cell_type": "code",
   "execution_count": 1,
   "id": "6969106f-c1f6-4b3f-bce8-783e853ebffa",
   "metadata": {},
   "outputs": [],
   "source": [
    "from bs4 import BeautifulSoup\n",
    "import requests\n",
    "import pandas as pd\n",
    "import json\n",
    "import re\n",
    "from datetime import datetime\n",
    "import os\n",
    "from requests.adapters import HTTPAdapter\n",
    "from urllib3.util.retry import Retry\n",
    "from requests.exceptions import InvalidURL\n",
    "from unidecode import unidecode"
   ]
  },
  {
   "cell_type": "code",
   "execution_count": 2,
   "id": "f6f15172-380f-40f4-913d-fd4250339bdc",
   "metadata": {},
   "outputs": [],
   "source": [
    "def extract_link(base_url):\n",
    "    # Headers for request\n",
    "    headers = {\"User-Agent\": \"Mozilla/5.0 (Windows NT 10.0; Win64; x64) AppleWebKit/537.36 (KHTML, like Gecko) Chrome/126.0.0.0 Safari/537.36\"}\n",
    "    page = 1\n",
    "    all_links = []\n",
    "    max_pages = 12  # Set maximum number of pages to navigate\n",
    "\n",
    "    while page <= max_pages:\n",
    "        url = f'{base_url}?p={page}'\n",
    "        response = requests.get(url, headers=headers)\n",
    "        soup = BeautifulSoup(response.text, 'html.parser')\n",
    "        \n",
    "        # New lines\n",
    "        a_tags = soup.find_all('a', class_='v3_thumb_common_sp relative')\n",
    "        all_links.extend([tag.get('href') for tag in a_tags])\n",
    "        \n",
    "        # Increment page number for the next iteration\n",
    "        page += 1\n",
    "\n",
    "    return all_links"
   ]
  },
  {
   "cell_type": "code",
   "execution_count": 3,
   "id": "3fdd26cf-6bb1-4075-a3c6-8db96ea272d2",
   "metadata": {},
   "outputs": [],
   "source": [
    "def extract_html(all_links, start, end):\n",
    "    data = []\n",
    "    for i in all_links[start:end]:\n",
    "        headers = {'User-Agent': 'Mozilla/5.0 (Windows NT 10.0; Win64; x64) AppleWebKit/537.36 (KHTML, like Gecko) Chrome/126.0.0.0 Safari/537.36'}\n",
    "        \n",
    "        retry_strategy = Retry(\n",
    "            total=20,  # Total number of retries\n",
    "            status_forcelist=[429, 500, 502, 503, 504],\n",
    "            allowed_methods=[\"HEAD\", \"GET\", \"OPTIONS\"]\n",
    "        )\n",
    "        adapter = HTTPAdapter(max_retries=retry_strategy)\n",
    "        http = requests.Session()\n",
    "        http.mount(\"https://\", adapter)\n",
    "        http.mount(\"http://\", adapter)\n",
    "        \n",
    "        response = http.get(i, headers=headers)\n",
    "        soup = BeautifulSoup(response.content.decode('utf-8'), 'html.parser')\n",
    "        \n",
    "        # Initialize dictionary for storing data\n",
    "        product_data = {\n",
    "            \"url\": i,\n",
    "            \"cate\": None,\n",
    "            \"listing_price\": None,\n",
    "            \"price\": None,\n",
    "            \"english_sku_name\": None,\n",
    "            \"sku_name\": None,\n",
    "            \"img_url\": None,\n",
    "            \"sku_code\": None,\n",
    "            \"rating\": None,\n",
    "            \"rating_count\": None,\n",
    "            \"status_text\": \"Status not found\",\n",
    "            \"gift\": None,\n",
    "            \"barcode\": None,\n",
    "            \"brand\": None,\n",
    "            \"brand_origin\": None,\n",
    "            \"factory\": None,\n",
    "            \"skin_type\": None,\n",
    "            \"feature\": None,\n",
    "            \"ingredients\": None\n",
    "        }\n",
    "\n",
    "        try:\n",
    "            cate_elements = soup.select('li span[itemprop=\"name\"]')\n",
    "            product_data['cate'] = [element.get_text(strip=True) for element in cate_elements]\n",
    "        except AttributeError:\n",
    "            product_data['cate'] = None\n",
    "        \n",
    "        # Extract price\n",
    "        try:\n",
    "            price = soup.find('span', id='product-final_price').text.strip()\n",
    "            product_data['price'] = int(price.replace('.', '').replace(' ₫', ''))\n",
    "        except AttributeError:\n",
    "            pass\n",
    "\n",
    "        # Extract listing price\n",
    "        try:\n",
    "            listing_price = soup.find('span', id='market_price').text.strip()\n",
    "            product_data['listing_price'] = int(listing_price.replace('.', '').replace(' ₫', ''))\n",
    "        except AttributeError:\n",
    "            pass\n",
    "\n",
    "        english_sku_name_element = soup.select_one('.page-title.english_name_detail .base')\n",
    "        product_data['english_sku_name'] = english_sku_name_element.text.strip() if english_sku_name_element else None\n",
    "\n",
    "        # Extract JSON-LD script\n",
    "        try:\n",
    "            json_ld_script = soup.find('script', type='application/ld+json').string\n",
    "            product_info = json.loads(json_ld_script)\n",
    "            product_data['sku_name'] = product_info.get('name')\n",
    "            product_data['img_url'] = product_info.get('image')[0] if product_info.get('image') else None\n",
    "            product_data['sku_code'] = product_info.get('sku')\n",
    "            product_data['rating'] = product_info['aggregateRating']['ratingValue']\n",
    "            product_data['rating_count'] = product_info['aggregateRating']['reviewCount']\n",
    "        except (AttributeError, json.JSONDecodeError, KeyError):\n",
    "            pass\n",
    "\n",
    "        status = soup.select_one('.block_add_to_cart_nav .btn_site_3, .block_add_to_cart_nav .btnOutOfStock')\n",
    "        product_data['status_text'] = status.text.strip() if status else 'Status not found'\n",
    "\n",
    "        gift_element = soup.select_one('.title_gif_detail span')\n",
    "        product_data['gift'] = gift_element.text.strip() if gift_element else None\n",
    "\n",
    "        product_details = {}\n",
    "        table_rows = soup.select('.tb_info_sanpham tr')\n",
    "        for row in table_rows:\n",
    "            cells = row.find_all('td')\n",
    "            if len(cells) >= 2:\n",
    "                key = cells[0].text.strip()\n",
    "                value = cells[1].text.strip()\n",
    "                product_details[key] = value\n",
    "\n",
    "        product_data['barcode'] = product_details.get('Barcode')\n",
    "        product_data['brand'] = product_details.get('Thương Hiệu')\n",
    "        product_data['brand_origin'] = product_details.get('Xuất xứ thương hiệu')\n",
    "        product_data['factory'] = product_details.get('Nơi sản xuất')\n",
    "        product_data['skin_type'] = product_details.get('Loại da')\n",
    "        product_data['feature'] = product_details.get('Đặc tính')\n",
    "\n",
    "        ingredients_div = soup.select_one('#box_thanhphanchinh .ct_box_detail')\n",
    "        product_data['ingredients'] = ingredients_div.get_text(strip=True) if ingredients_div else None\n",
    "\n",
    "        data.append(product_data)\n",
    "\n",
    "    return data"
   ]
  },
  {
   "cell_type": "code",
   "execution_count": 4,
   "id": "74eda413-856f-4873-b04b-8da89c7d639c",
   "metadata": {},
   "outputs": [],
   "source": [
    "def extract_data(data):\n",
    "    df = pd.DataFrame(data)\n",
    "\n",
    "    df['date'] = pd.Timestamp.now().normalize()\n",
    "    \n",
    "    # Filepath for the CSV file\n",
    "    file_path = 'kemchongnang_taytrang_hasaki.csv'\n",
    "\n",
    "    # Append the new data to the existing CSV file\n",
    "    if os.path.exists(file_path):\n",
    "        df.to_csv(file_path, mode='a', index=False, header=False, encoding='utf-8-sig')\n",
    "    else:\n",
    "        df.to_csv(file_path, index=False, encoding='utf-8-sig')\n",
    "        \n",
    "    return df"
   ]
  },
  {
   "cell_type": "code",
   "execution_count": null,
   "id": "f80eadee-1162-483e-a131-8b01560d9df3",
   "metadata": {},
   "outputs": [],
   "source": []
  },
  {
   "cell_type": "code",
   "execution_count": null,
   "id": "e2c6293f-083d-47f5-b4bd-b19264c411cb",
   "metadata": {},
   "outputs": [],
   "source": []
  },
  {
   "cell_type": "markdown",
   "id": "603849b2-7027-4559-ad6c-36d849df28a9",
   "metadata": {},
   "source": [
    "# 1. Get all_links"
   ]
  },
  {
   "cell_type": "code",
   "execution_count": 5,
   "id": "ae2dafec-9f2b-4992-9be8-6867f064957a",
   "metadata": {},
   "outputs": [],
   "source": [
    "all_links = []\n",
    "all_links.extend(extract_link('https://hasaki.vn/danh-muc/chong-nang-da-mat-c11.html'))"
   ]
  },
  {
   "cell_type": "code",
   "execution_count": 6,
   "id": "b8499f33-5038-4d75-80ca-bfe6e0f38d14",
   "metadata": {},
   "outputs": [],
   "source": [
    "all_links.extend(extract_link('https://hasaki.vn/danh-muc/tay-trang-mat-c48.html'))"
   ]
  },
  {
   "cell_type": "code",
   "execution_count": 7,
   "id": "65e99068-4160-4b3c-8416-974f4905f542",
   "metadata": {},
   "outputs": [
    {
     "data": {
      "text/plain": [
       "574"
      ]
     },
     "execution_count": 7,
     "metadata": {},
     "output_type": "execute_result"
    }
   ],
   "source": [
    "len(all_links)"
   ]
  },
  {
   "cell_type": "code",
   "execution_count": 8,
   "id": "41837895-55bd-4ec1-89d7-af2d706bc339",
   "metadata": {},
   "outputs": [
    {
     "data": {
      "text/plain": [
       "553"
      ]
     },
     "execution_count": 8,
     "metadata": {},
     "output_type": "execute_result"
    }
   ],
   "source": [
    "all_links = list(dict.fromkeys(all_links))\n",
    "len(all_links)"
   ]
  },
  {
   "cell_type": "markdown",
   "id": "3640553b-735c-4aae-9ac7-bf179ca297d1",
   "metadata": {},
   "source": [
    "# 2. Extract data"
   ]
  },
  {
   "cell_type": "code",
   "execution_count": 9,
   "id": "570b7bd9-5d48-48aa-9001-f843c3b28e08",
   "metadata": {},
   "outputs": [],
   "source": [
    "data = []\n",
    "x = 0\n",
    "y = 25\n",
    "z = 25\n",
    "data.extend(extract_html(all_links,x,y))"
   ]
  },
  {
   "cell_type": "code",
   "execution_count": 10,
   "id": "ace331bf-e405-40a7-9a56-a5a4cada6c36",
   "metadata": {},
   "outputs": [],
   "source": [
    "x = x+z\n",
    "y = y+z\n",
    "data.extend(extract_html(all_links,x,y))"
   ]
  },
  {
   "cell_type": "code",
   "execution_count": 11,
   "id": "60b406cc-b0ec-46a8-9abe-27984016fec7",
   "metadata": {},
   "outputs": [],
   "source": [
    "x = x+z\n",
    "y = y+z\n",
    "data.extend(extract_html(all_links,x,y))"
   ]
  },
  {
   "cell_type": "code",
   "execution_count": 12,
   "id": "9b216b1f-5018-4fc2-929a-59cf263b2f56",
   "metadata": {},
   "outputs": [],
   "source": [
    "x = x+z\n",
    "y = y+z\n",
    "data.extend(extract_html(all_links,x,y))"
   ]
  },
  {
   "cell_type": "code",
   "execution_count": 13,
   "id": "8dcbb60c-74ac-4ed1-94db-f27ec08aa2f6",
   "metadata": {},
   "outputs": [],
   "source": [
    "x = x+z\n",
    "y = y+z\n",
    "data.extend(extract_html(all_links,x,y))"
   ]
  },
  {
   "cell_type": "code",
   "execution_count": 14,
   "id": "e64b9003-2343-4e64-b18d-eec06fe13b6c",
   "metadata": {},
   "outputs": [],
   "source": [
    "x = x+z\n",
    "y = y+z\n",
    "data.extend(extract_html(all_links,x,y))"
   ]
  },
  {
   "cell_type": "code",
   "execution_count": 15,
   "id": "92729203-bc16-45f2-ade7-fbc69c6124ca",
   "metadata": {},
   "outputs": [],
   "source": [
    "x = x+z\n",
    "y = y+z\n",
    "data.extend(extract_html(all_links,x,y))"
   ]
  },
  {
   "cell_type": "code",
   "execution_count": 16,
   "id": "c2a5865f-3450-4ba0-85fd-7eefef8c37cf",
   "metadata": {},
   "outputs": [],
   "source": [
    "x = x+z\n",
    "y = y+z\n",
    "data.extend(extract_html(all_links,x,y))"
   ]
  },
  {
   "cell_type": "code",
   "execution_count": 17,
   "id": "051e6228-1038-44b9-87d8-2d9d479a3534",
   "metadata": {},
   "outputs": [],
   "source": [
    "x = x+z\n",
    "y = y+z\n",
    "data.extend(extract_html(all_links,x,y))"
   ]
  },
  {
   "cell_type": "code",
   "execution_count": 18,
   "id": "5af58e45-1e42-4336-a138-62b719345b31",
   "metadata": {},
   "outputs": [],
   "source": [
    "x = x+z\n",
    "y = y+z\n",
    "data.extend(extract_html(all_links,x,y))"
   ]
  },
  {
   "cell_type": "code",
   "execution_count": 19,
   "id": "7c60bf8f-56da-4bbb-a376-39379f2962a1",
   "metadata": {},
   "outputs": [],
   "source": [
    "x = x+z\n",
    "y = y+z\n",
    "data.extend(extract_html(all_links,x,y))"
   ]
  },
  {
   "cell_type": "code",
   "execution_count": 20,
   "id": "ea37756e-0081-4d82-97c6-38e94a771c78",
   "metadata": {},
   "outputs": [],
   "source": [
    "x = x+z\n",
    "y = y+z\n",
    "data.extend(extract_html(all_links,x,y))"
   ]
  },
  {
   "cell_type": "code",
   "execution_count": 21,
   "id": "d1bda205-5f28-4d9a-8799-5c067e58fbf3",
   "metadata": {},
   "outputs": [],
   "source": [
    "x = x+z\n",
    "y = y+z\n",
    "data.extend(extract_html(all_links,x,y))"
   ]
  },
  {
   "cell_type": "code",
   "execution_count": 22,
   "id": "bf9579f5-90f5-43cc-8665-28c35d61af58",
   "metadata": {},
   "outputs": [],
   "source": [
    "x = x+z\n",
    "y = y+z\n",
    "data.extend(extract_html(all_links,x,y))"
   ]
  },
  {
   "cell_type": "code",
   "execution_count": 23,
   "id": "52c6e035-941f-4ca8-b1e3-292cc6ddbfb7",
   "metadata": {},
   "outputs": [],
   "source": [
    "x = x+z\n",
    "y = y+z\n",
    "data.extend(extract_html(all_links,x,y))"
   ]
  },
  {
   "cell_type": "code",
   "execution_count": 24,
   "id": "2f0a2dd3-2c57-4b8a-a849-7985f6fd1f03",
   "metadata": {},
   "outputs": [],
   "source": [
    "x = x+z\n",
    "y = y+z\n",
    "data.extend(extract_html(all_links,x,y))"
   ]
  },
  {
   "cell_type": "code",
   "execution_count": 25,
   "id": "bfe3b82c-9a98-4c85-913a-63da6eaf52bf",
   "metadata": {},
   "outputs": [],
   "source": [
    "x = x+z\n",
    "y = y+z\n",
    "data.extend(extract_html(all_links,x,y))"
   ]
  },
  {
   "cell_type": "code",
   "execution_count": 26,
   "id": "62b12ebb-734b-4818-a02d-c992e24cce83",
   "metadata": {},
   "outputs": [],
   "source": [
    "x = x+z\n",
    "y = y+z\n",
    "data.extend(extract_html(all_links,x,y))"
   ]
  },
  {
   "cell_type": "code",
   "execution_count": 27,
   "id": "740ce2a2-57c1-4bea-be9d-2e22702eb640",
   "metadata": {},
   "outputs": [],
   "source": [
    "x = x+z\n",
    "y = y+z\n",
    "data.extend(extract_html(all_links,x,y))"
   ]
  },
  {
   "cell_type": "code",
   "execution_count": 28,
   "id": "721052f7-e6bf-4233-940d-e6d51d201cd0",
   "metadata": {},
   "outputs": [],
   "source": [
    "x = x+z\n",
    "y = y+z\n",
    "data.extend(extract_html(all_links,x,y))"
   ]
  },
  {
   "cell_type": "code",
   "execution_count": 29,
   "id": "e6b64e3f-720c-4820-a046-73580e0d9327",
   "metadata": {},
   "outputs": [],
   "source": [
    "x = x+z\n",
    "y = y+z\n",
    "data.extend(extract_html(all_links,x,y))"
   ]
  },
  {
   "cell_type": "code",
   "execution_count": 30,
   "id": "4ee1ebb4-5105-4963-928a-a0fce8b3f66f",
   "metadata": {},
   "outputs": [],
   "source": [
    "x = x+z\n",
    "y = y+z\n",
    "data.extend(extract_html(all_links,x,y))"
   ]
  },
  {
   "cell_type": "code",
   "execution_count": 31,
   "id": "7088c519-e60e-401f-bca0-04080a89e1eb",
   "metadata": {},
   "outputs": [
    {
     "name": "stdout",
     "output_type": "stream",
     "text": [
      "525 550\n"
     ]
    }
   ],
   "source": [
    "print(x,y)"
   ]
  },
  {
   "cell_type": "code",
   "execution_count": 32,
   "id": "59adc4fd-b60f-44a1-b0a2-57e30adb546c",
   "metadata": {},
   "outputs": [],
   "source": [
    "x = x+z\n",
    "y = y+z\n",
    "data.extend(extract_html(all_links,x,y))"
   ]
  },
  {
   "cell_type": "code",
   "execution_count": 33,
   "id": "133c3e9d-f0d2-462a-9cd1-f0d61d7f7567",
   "metadata": {},
   "outputs": [],
   "source": [
    "x = x+z\n",
    "y = y+z\n",
    "data.extend(extract_html(all_links,x,y))"
   ]
  },
  {
   "cell_type": "code",
   "execution_count": 34,
   "id": "10700a14-7cd1-412b-bb2a-2a3c0cada717",
   "metadata": {},
   "outputs": [],
   "source": [
    "x = x+z\n",
    "y = y+z\n",
    "data.extend(extract_html(all_links,x,y))"
   ]
  },
  {
   "cell_type": "code",
   "execution_count": 35,
   "id": "4b27bb7a-9564-4137-a4d0-af8b70d8cc4a",
   "metadata": {},
   "outputs": [],
   "source": [
    "x = x+z\n",
    "y = y+z\n",
    "data.extend(extract_html(all_links,x,y))"
   ]
  },
  {
   "cell_type": "code",
   "execution_count": 36,
   "id": "0d5542e1-a8ef-4693-8ad8-15b0d80ced59",
   "metadata": {},
   "outputs": [],
   "source": [
    "x = x+z\n",
    "y = y+z\n",
    "data.extend(extract_html(all_links,x,y))"
   ]
  },
  {
   "cell_type": "code",
   "execution_count": 37,
   "id": "fbb5a813-6d98-4c7b-abba-d9b3d0951b08",
   "metadata": {},
   "outputs": [],
   "source": [
    "x = x+z\n",
    "y = y+z\n",
    "data.extend(extract_html(all_links,x,y))"
   ]
  },
  {
   "cell_type": "code",
   "execution_count": 38,
   "id": "6864bb7a-7a39-478a-baab-6a1555f712b8",
   "metadata": {},
   "outputs": [],
   "source": [
    "x = x+z\n",
    "y = y+z\n",
    "data.extend(extract_html(all_links,x,y))"
   ]
  },
  {
   "cell_type": "code",
   "execution_count": 39,
   "id": "0b57e9f3-3dc8-4533-9245-f0d38373dac8",
   "metadata": {},
   "outputs": [],
   "source": [
    "x = x+z\n",
    "y = y+z\n",
    "data.extend(extract_html(all_links,x,y))"
   ]
  },
  {
   "cell_type": "code",
   "execution_count": 40,
   "id": "0169a08f-f4fb-4439-a720-845bf6463d5b",
   "metadata": {},
   "outputs": [],
   "source": [
    "x = x+z\n",
    "y = y+z\n",
    "data.extend(extract_html(all_links,x,y))"
   ]
  },
  {
   "cell_type": "code",
   "execution_count": 41,
   "id": "ac8cda35-0722-4761-bd13-57d99b08b50b",
   "metadata": {},
   "outputs": [],
   "source": [
    "x = x+z\n",
    "y = y+z\n",
    "data.extend(extract_html(all_links,x,y))"
   ]
  },
  {
   "cell_type": "code",
   "execution_count": 42,
   "id": "75770eff-2c02-449c-977a-0cd50a2829fd",
   "metadata": {},
   "outputs": [
    {
     "name": "stdout",
     "output_type": "stream",
     "text": [
      "775 800\n"
     ]
    }
   ],
   "source": [
    "print(x,y)"
   ]
  },
  {
   "cell_type": "markdown",
   "id": "62ac5052-41a2-48bc-8563-25c541bd0de4",
   "metadata": {},
   "source": [
    "# 3. Export data"
   ]
  },
  {
   "cell_type": "code",
   "execution_count": 43,
   "id": "e9b64ce1-1e98-4294-b25d-07cbe7bbc5e1",
   "metadata": {},
   "outputs": [
    {
     "data": {
      "text/html": [
       "<div>\n",
       "<style scoped>\n",
       "    .dataframe tbody tr th:only-of-type {\n",
       "        vertical-align: middle;\n",
       "    }\n",
       "\n",
       "    .dataframe tbody tr th {\n",
       "        vertical-align: top;\n",
       "    }\n",
       "\n",
       "    .dataframe thead th {\n",
       "        text-align: right;\n",
       "    }\n",
       "</style>\n",
       "<table border=\"1\" class=\"dataframe\">\n",
       "  <thead>\n",
       "    <tr style=\"text-align: right;\">\n",
       "      <th></th>\n",
       "      <th>listing_price</th>\n",
       "      <th>price</th>\n",
       "      <th>rating</th>\n",
       "      <th>rating_count</th>\n",
       "      <th>date</th>\n",
       "    </tr>\n",
       "  </thead>\n",
       "  <tbody>\n",
       "    <tr>\n",
       "      <th>count</th>\n",
       "      <td>5.200000e+02</td>\n",
       "      <td>5.530000e+02</td>\n",
       "      <td>553.000000</td>\n",
       "      <td>553.000000</td>\n",
       "      <td>553</td>\n",
       "    </tr>\n",
       "    <tr>\n",
       "      <th>mean</th>\n",
       "      <td>4.555915e+05</td>\n",
       "      <td>3.313165e+05</td>\n",
       "      <td>2.801447</td>\n",
       "      <td>21.180832</td>\n",
       "      <td>2024-11-27 00:00:00</td>\n",
       "    </tr>\n",
       "    <tr>\n",
       "      <th>min</th>\n",
       "      <td>1.400000e+04</td>\n",
       "      <td>1.300000e+04</td>\n",
       "      <td>0.000000</td>\n",
       "      <td>0.000000</td>\n",
       "      <td>2024-11-27 00:00:00</td>\n",
       "    </tr>\n",
       "    <tr>\n",
       "      <th>25%</th>\n",
       "      <td>2.290000e+05</td>\n",
       "      <td>1.570000e+05</td>\n",
       "      <td>0.000000</td>\n",
       "      <td>0.000000</td>\n",
       "      <td>2024-11-27 00:00:00</td>\n",
       "    </tr>\n",
       "    <tr>\n",
       "      <th>50%</th>\n",
       "      <td>4.155000e+05</td>\n",
       "      <td>2.960000e+05</td>\n",
       "      <td>4.300000</td>\n",
       "      <td>2.000000</td>\n",
       "      <td>2024-11-27 00:00:00</td>\n",
       "    </tr>\n",
       "    <tr>\n",
       "      <th>75%</th>\n",
       "      <td>5.860000e+05</td>\n",
       "      <td>4.390000e+05</td>\n",
       "      <td>4.800000</td>\n",
       "      <td>12.000000</td>\n",
       "      <td>2024-11-27 00:00:00</td>\n",
       "    </tr>\n",
       "    <tr>\n",
       "      <th>max</th>\n",
       "      <td>3.360000e+06</td>\n",
       "      <td>2.900000e+06</td>\n",
       "      <td>5.000000</td>\n",
       "      <td>294.000000</td>\n",
       "      <td>2024-11-27 00:00:00</td>\n",
       "    </tr>\n",
       "    <tr>\n",
       "      <th>std</th>\n",
       "      <td>3.071094e+05</td>\n",
       "      <td>2.473750e+05</td>\n",
       "      <td>2.297580</td>\n",
       "      <td>54.132184</td>\n",
       "      <td>NaN</td>\n",
       "    </tr>\n",
       "  </tbody>\n",
       "</table>\n",
       "</div>"
      ],
      "text/plain": [
       "       listing_price         price      rating  rating_count  \\\n",
       "count   5.200000e+02  5.530000e+02  553.000000    553.000000   \n",
       "mean    4.555915e+05  3.313165e+05    2.801447     21.180832   \n",
       "min     1.400000e+04  1.300000e+04    0.000000      0.000000   \n",
       "25%     2.290000e+05  1.570000e+05    0.000000      0.000000   \n",
       "50%     4.155000e+05  2.960000e+05    4.300000      2.000000   \n",
       "75%     5.860000e+05  4.390000e+05    4.800000     12.000000   \n",
       "max     3.360000e+06  2.900000e+06    5.000000    294.000000   \n",
       "std     3.071094e+05  2.473750e+05    2.297580     54.132184   \n",
       "\n",
       "                      date  \n",
       "count                  553  \n",
       "mean   2024-11-27 00:00:00  \n",
       "min    2024-11-27 00:00:00  \n",
       "25%    2024-11-27 00:00:00  \n",
       "50%    2024-11-27 00:00:00  \n",
       "75%    2024-11-27 00:00:00  \n",
       "max    2024-11-27 00:00:00  \n",
       "std                    NaN  "
      ]
     },
     "execution_count": 43,
     "metadata": {},
     "output_type": "execute_result"
    }
   ],
   "source": [
    "df = extract_data(data)\n",
    "df.describe()"
   ]
  },
  {
   "cell_type": "code",
   "execution_count": null,
   "id": "71ed6310-1cec-4879-a676-d968d5357d3b",
   "metadata": {},
   "outputs": [],
   "source": []
  }
 ],
 "metadata": {
  "kernelspec": {
   "display_name": "Python 3 (ipykernel)",
   "language": "python",
   "name": "python3"
  },
  "language_info": {
   "codemirror_mode": {
    "name": "ipython",
    "version": 3
   },
   "file_extension": ".py",
   "mimetype": "text/x-python",
   "name": "python",
   "nbconvert_exporter": "python",
   "pygments_lexer": "ipython3",
   "version": "3.12.3"
  }
 },
 "nbformat": 4,
 "nbformat_minor": 5
}
